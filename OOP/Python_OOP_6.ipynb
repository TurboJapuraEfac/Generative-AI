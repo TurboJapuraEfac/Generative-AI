{
  "nbformat": 4,
  "nbformat_minor": 0,
  "metadata": {
    "colab": {
      "provenance": []
    },
    "kernelspec": {
      "name": "python3",
      "display_name": "Python 3"
    },
    "language_info": {
      "name": "python"
    }
  },
  "cells": [
    {
      "cell_type": "markdown",
      "source": [
        " In Python, property decorators are a way to define special methods, known as **getters, setters, and deleters**, which provide controlled access to class attributes. These decorators allow you to customize the behavior when reading, assigning, or deleting the values of class attributes."
      ],
      "metadata": {
        "id": "QWrTCUJkbRxK"
      }
    },
    {
      "cell_type": "code",
      "execution_count": 1,
      "metadata": {
        "id": "Rrw-Lrm3aXIy"
      },
      "outputs": [],
      "source": [
        "class Circle:\n",
        "    def __init__(self, radius):\n",
        "        self._radius = radius\n",
        "\n",
        "    @property\n",
        "    def radius(self):\n",
        "        \"\"\"Getter method to retrieve the radius of the circle.\"\"\"\n",
        "        return self._radius\n",
        "\n",
        "    @radius.setter\n",
        "    def radius(self, value):\n",
        "        \"\"\"Setter method to set the radius of the circle.\"\"\"\n",
        "        if value >= 0:\n",
        "            self._radius = value\n",
        "        else:\n",
        "            raise ValueError(\"Radius cannot be negative.\")\n",
        "\n",
        "    @radius.deleter\n",
        "    def radius(self):\n",
        "        \"\"\"Deleter method to delete the radius of the circle.\"\"\"\n",
        "        del self._radius\n",
        "\n",
        "    def area(self):\n",
        "        \"\"\"Calculate and return the area of the circle.\"\"\"\n",
        "        return 3.14 * self.radius ** 2\n"
      ]
    },
    {
      "cell_type": "markdown",
      "source": [
        "In the above code, we have a **Circle class with a private attribute _radius** representing the radius of the circle. Let's explain the property decorators used:\n",
        "\n",
        "1. **@property** is used to define a getter method for the radius attribute. It allows accessing the radius attribute as if it were a regular attribute, without using parentheses. This is achieved by decorating the method named radius with @property.\n",
        "\n",
        "2. **@radius.setter** is used to define a setter method for the radius attribute. It allows assigning a new value to the radius attribute. By decorating another method named radius with @radius.setter, we specify that this method should be called whenever the attribute is assigned a value.\n",
        "\n",
        "3. **@radius.deleter** is used to define a deleter method for the radius attribute. It allows deleting the radius attribute from the instance. Decorating the method named radius with @radius.deleter indicates that this method should be called when the attribute is deleted."
      ],
      "metadata": {
        "id": "faKCUKedbp21"
      }
    },
    {
      "cell_type": "markdown",
      "source": [
        "Getters, setters, and deleters (also known as accessor and mutator methods) are used in object-oriented programming to provide controlled access to class attributes or properties. Here are the reasons why we use them:\n",
        "\n",
        "1. **Encapsulation**: Getters and setters provide an additional layer of encapsulation by allowing controlled access to attributes. Instead of directly accessing or modifying the attributes of a class, we use these methods to ensure that any access or modification follows certain rules or validations.\n",
        "\n",
        "2. **Data Validation**: Getters and setters allow us to validate the data being assigned to an attribute before accepting it. For example, we can check if a value is within a valid range or meets certain conditions. This helps maintain the integrity and consistency of the data within the object.\n",
        "\n",
        "3. **Access Control**: Getters and setters allow us to control access to class attributes. We can choose to expose only the getter and keep the setter private, making the attribute read-only from outside the class. This helps in enforcing data encapsulation and preventing unintended modifications.\n",
        "\n",
        "4. **Flexibility and Maintainability**: By using getters and setters, we can modify the internal implementation of a class without affecting the external interface. If we decide to change how an attribute is stored or computed, we can update the getter and setter methods accordingly while keeping the external code using those methods unaffected.\n",
        "\n",
        "5. **Code Consistency**: Getters and setters provide a consistent and uniform way to access and modify attributes across different instances of a class. This improves code readability and makes it easier to understand and maintain the codebase.\n",
        "\n",
        "Adapting to Future Changes: By using getters and setters from the beginning, we are prepared for future changes that may require additional logic or modifications during attribute access or assignment. This allows for smoother transitions and reduces the likelihood of breaking existing code."
      ],
      "metadata": {
        "id": "u3WLt2G5dAK1"
      }
    },
    {
      "cell_type": "code",
      "source": [
        "my_circle = Circle(5)\n",
        "print(my_circle.radius)  # Output: 5\n",
        "\n",
        "my_circle.radius = 7\n",
        "print(my_circle.radius)  # Output: 7\n",
        "\n",
        "# my_circle.radius = -2  # Raises ValueError\n",
        "\n",
        "del my_circle.radius\n",
        "print(hasattr(my_circle, 'radius'))  # Output: False\n",
        "\n",
        "# print(my_circle.area())  # Output: 0.0\n"
      ],
      "metadata": {
        "colab": {
          "base_uri": "https://localhost:8080/"
        },
        "id": "2qBDu0y8cVWX",
        "outputId": "4c0df348-2dee-4c1c-e450-230f072d0d08"
      },
      "execution_count": 2,
      "outputs": [
        {
          "output_type": "stream",
          "name": "stdout",
          "text": [
            "5\n",
            "7\n",
            "False\n"
          ]
        }
      ]
    },
    {
      "cell_type": "code",
      "source": [
        "class Employee:\n",
        "\n",
        "    def __init__(self, first, last):\n",
        "        self.first = first\n",
        "        self.last = last\n",
        "\n",
        "    @property\n",
        "    def email(self):\n",
        "        return '{}.{}@email.com'.format(self.first, self.last)\n",
        "\n",
        "    @property\n",
        "    def fullname(self):\n",
        "        return '{} {}'.format(self.first, self.last)\n",
        "\n",
        "    @fullname.setter\n",
        "    def fullname(self, name):\n",
        "        first, last = name.split(' ')\n",
        "        self.first = first\n",
        "        self.last = last\n",
        "\n",
        "    @fullname.deleter\n",
        "    def fullname(self):\n",
        "        print('Delete Name!')\n",
        "        self.first = None\n",
        "        self.last = None\n",
        "\n",
        "emp_1 = Employee('John', 'Smith')\n",
        "emp_1.fullname = \"Corey Schafer\"\n",
        "\n",
        "# We can use these as attributes intead of functions using decorators\n",
        "print(emp_1.first)\n",
        "print(emp_1.email)\n",
        "print(emp_1.fullname)\n",
        "\n",
        "del emp_1.fullname"
      ],
      "metadata": {
        "colab": {
          "base_uri": "https://localhost:8080/"
        },
        "id": "-wzoQVDXcXJ7",
        "outputId": "5f86cec7-513b-42f1-b122-ce972389e1d1"
      },
      "execution_count": 3,
      "outputs": [
        {
          "output_type": "stream",
          "name": "stdout",
          "text": [
            "Corey\n",
            "Corey.Schafer@email.com\n",
            "Corey Schafer\n",
            "Delete Name!\n"
          ]
        }
      ]
    },
    {
      "cell_type": "code",
      "source": [
        "print(emp_1.first)\n",
        "print(emp_1.email)\n",
        "print(emp_1.fullname)"
      ],
      "metadata": {
        "colab": {
          "base_uri": "https://localhost:8080/"
        },
        "id": "HkGB6bsQeAnF",
        "outputId": "1c801a6d-6173-4829-dc43-68b5d5f8413c"
      },
      "execution_count": 4,
      "outputs": [
        {
          "output_type": "stream",
          "name": "stdout",
          "text": [
            "None\n",
            "None.None@email.com\n",
            "None None\n"
          ]
        }
      ]
    }
  ]
}