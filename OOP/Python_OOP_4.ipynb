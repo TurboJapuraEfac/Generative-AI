{
  "nbformat": 4,
  "nbformat_minor": 0,
  "metadata": {
    "colab": {
      "provenance": []
    },
    "kernelspec": {
      "name": "python3",
      "display_name": "Python 3"
    },
    "language_info": {
      "name": "python"
    }
  },
  "cells": [
    {
      "cell_type": "code",
      "execution_count": 1,
      "metadata": {
        "colab": {
          "base_uri": "https://localhost:8080/"
        },
        "id": "room03u6nHak",
        "outputId": "290dd7f0-5302-4c6a-95a1-d49f81b6e58e"
      },
      "outputs": [
        {
          "output_type": "stream",
          "name": "stdout",
          "text": [
            "blue\n",
            "red\n",
            "20\n",
            "28.26\n"
          ]
        }
      ],
      "source": [
        "class Shape:\n",
        "    def __init__(self, color):\n",
        "        self.color = color\n",
        "\n",
        "    def get_color(self):\n",
        "        return self.color\n",
        "\n",
        "    def area(self):\n",
        "        pass  # Placeholder method to be overridden in subclasses\n",
        "\n",
        "\n",
        "class Rectangle(Shape):\n",
        "    def __init__(self, color, width, height):\n",
        "        super().__init__(color)\n",
        "        self.width = width\n",
        "        self.height = height\n",
        "\n",
        "    def area(self):\n",
        "        return self.width * self.height\n",
        "\n",
        "\n",
        "class Circle(Shape):\n",
        "    def __init__(self, color, radius):\n",
        "        super().__init__(color)\n",
        "        self.radius = radius\n",
        "\n",
        "    def area(self):\n",
        "        return 3.14 * self.radius ** 2\n",
        "\n",
        "\n",
        "# Create instances of the subclasses\n",
        "rect = Rectangle(\"blue\", 4, 5)\n",
        "circle = Circle(\"red\", 3)\n",
        "\n",
        "# Access attributes and methods\n",
        "print(rect.get_color())  # Output: blue\n",
        "print(circle.get_color())  # Output: red\n",
        "\n",
        "print(rect.area())  # Output: 20\n",
        "print(circle.area())  # Output: 28.26\n",
        "\n",
        "# In this example, we define the Shape class with an __init__ method to initialize the color attribute. It also has a get_color method to retrieve the color\n",
        "# and an area method, which is a placeholder method that will be overridden in the subclasses.\n",
        "\n",
        "# The Rectangle class is a subclass of Shape and adds its own __init__ method, which initializes the width and height attributes. It overrides the area method\n",
        "# to calculate the area of a rectangle.\n",
        "\n",
        "# Similarly, the Circle class is another subclass of Shape and provides its own __init__ method to set the radius attribute. It also overrides the area method\n",
        "#  to calculate the area of a circle.\n",
        "\n",
        "# We create instances of the Rectangle and Circle classes and can access their attributes and methods. The super() function is used to call the parent\n",
        "# class's __init__ method to initialize the common color attribute in the subclasses.\n"
      ]
    },
    {
      "cell_type": "code",
      "source": [
        "class Employee:\n",
        "\n",
        "    raise_amt = 1.04\n",
        "\n",
        "    def __init__(self, first, last, pay):\n",
        "        self.first = first\n",
        "        self.last = last\n",
        "        self.email = first + '.' + last + '@email.com'\n",
        "        self.pay = pay\n",
        "\n",
        "    def fullname(self):\n",
        "        return '{} {}'.format(self.first, self.last)\n",
        "\n",
        "    def apply_raise(self):\n",
        "        self.pay = int(self.pay * self.raise_amt)\n",
        "\n",
        "class Developer(Employee):\n",
        "  raise_amt = 1.10\n",
        "\n",
        "dev_1 = Developer('Corey', 'Schafer', 50000)\n",
        "dev_2 = Developer('Test', 'Employee', 60000)\n",
        "emp_1 = Employee('Buddhika', 'Weerasinghe', 50000)\n",
        "\n",
        "print(dev_1.email)\n",
        "print(dev_2.email)\n",
        "\n",
        "print(\"\\n\")\n",
        "print(dev_1.raise_amt)\n",
        "dev_1.apply_raise() # Here it has used the raise_amt inside Developer class\n",
        "print(dev_1.pay) # Raise is increased by 10%\n",
        "\n",
        "print(\"\\n\")\n",
        "print(emp_1.raise_amt)\n",
        "emp_1.apply_raise() # Here it has used the raise_amt inside Employee class\n",
        "print(emp_1.pay) # Raise is increased by 4%\n",
        "\n",
        "\n",
        "# print(help(Developer))"
      ],
      "metadata": {
        "colab": {
          "base_uri": "https://localhost:8080/"
        },
        "id": "CpvjVi6Gt5ba",
        "outputId": "28883b37-cb5c-436d-a9e3-1a4171124f9c"
      },
      "execution_count": 2,
      "outputs": [
        {
          "output_type": "stream",
          "name": "stdout",
          "text": [
            "Corey.Schafer@email.com\n",
            "Test.Employee@email.com\n",
            "\n",
            "\n",
            "1.1\n",
            "55000\n",
            "\n",
            "\n",
            "1.04\n",
            "52000\n"
          ]
        }
      ]
    },
    {
      "cell_type": "code",
      "source": [
        "class Employee:\n",
        "\n",
        "    raise_amt = 1.04\n",
        "\n",
        "    def __init__(self, first, last, pay):\n",
        "        self.first = first\n",
        "        self.last = last\n",
        "        self.email = first + '.' + last + '@email.com'\n",
        "        self.pay = pay\n",
        "\n",
        "    def fullname(self):\n",
        "        return '{} {}'.format(self.first, self.last)\n",
        "\n",
        "    def apply_raise(self):\n",
        "        self.pay = int(self.pay * self.raise_amt)\n",
        "\n",
        "class Developer(Employee):\n",
        "  raise_amt = 1.10\n",
        "\n",
        "  def __init__(self, first, last, pay, prog_lang):\n",
        "    super().__init__(first, last, pay)\n",
        "    # Employee.__init__(self,first,last,pay) This method is an alternative to above one\n",
        "    self.prog_lang = prog_lang\n",
        "\n",
        "class Manager(Employee):\n",
        "  raise_amt = 1.20\n",
        "\n",
        "  def __init__(self, first, last, pay, employees =None):\n",
        "    super().__init__(first, last, pay)\n",
        "    if employees == None:\n",
        "      self.employees = []\n",
        "    else:\n",
        "      self.employees = employees\n",
        "\n",
        "  def add_emp(self, emp):\n",
        "        if emp not in self.employees:\n",
        "            self.employees.append(emp)\n",
        "\n",
        "  def remove_emp(self, emp):\n",
        "      if emp in self.employees:\n",
        "          self.employees.remove(emp)\n",
        "\n",
        "  def print_emps(self):\n",
        "      for emp in self.employees:\n",
        "          print('-->', emp.fullname())\n",
        "\n",
        "dev_1 = Developer('Corey', 'Schafer', 50000,'Python')\n",
        "dev_2 = Developer('Test', 'Employee', 60000, 'Java')\n",
        "mgr_1 = Manager('Sue', 'Smith', 90000, [dev_1])\n",
        "\n",
        "print(dev_1.email)\n",
        "print(dev_1.prog_lang)\n",
        "\n",
        "print(\"\\n\")\n",
        "print(\"\\n\")\n",
        "print(mgr_1.email)\n",
        "mgr_1.print_emps()\n",
        "print(\"\\n\")\n",
        "mgr_1.add_emp(dev_2)\n",
        "mgr_1.print_emps()\n",
        "print(\"\\n\")\n",
        "mgr_1.remove_emp(dev_2)\n",
        "mgr_1.print_emps()"
      ],
      "metadata": {
        "colab": {
          "base_uri": "https://localhost:8080/"
        },
        "id": "co8BdBokuY1n",
        "outputId": "492e448f-a636-4f0d-d78e-a265ea77ec70"
      },
      "execution_count": 3,
      "outputs": [
        {
          "output_type": "stream",
          "name": "stdout",
          "text": [
            "Corey.Schafer@email.com\n",
            "Python\n",
            "\n",
            "\n",
            "\n",
            "\n",
            "Sue.Smith@email.com\n",
            "--> Corey Schafer\n",
            "\n",
            "\n",
            "--> Corey Schafer\n",
            "--> Test Employee\n",
            "\n",
            "\n",
            "--> Corey Schafer\n"
          ]
        }
      ]
    },
    {
      "cell_type": "markdown",
      "source": [
        "**isinstance():**\n",
        "\n",
        "The isinstance() function is used to determine whether an object is an instance of a particular class or any of its subclasses. It returns True if the object is an instance of the specified class or subclass, and False otherwise."
      ],
      "metadata": {
        "id": "EmB0oG6c01H1"
      }
    },
    {
      "cell_type": "code",
      "source": [
        "class Vehicle:\n",
        "    pass\n",
        "\n",
        "class Car(Vehicle):\n",
        "    pass\n",
        "\n",
        "class Bike(Vehicle):\n",
        "    pass\n",
        "\n",
        "car = Car()\n",
        "bike = Bike()\n",
        "\n",
        "print(isinstance(car, Vehicle))  # Output: True\n",
        "print(isinstance(bike, Vehicle))  # Output: True\n",
        "print(isinstance(car, Car))  # Output: True\n",
        "print(isinstance(bike, Car))  # Output: False\n"
      ],
      "metadata": {
        "colab": {
          "base_uri": "https://localhost:8080/"
        },
        "id": "Fhv3HvD8yT6b",
        "outputId": "8c1c2428-372e-47dd-adcd-cce74d9bc69c"
      },
      "execution_count": 4,
      "outputs": [
        {
          "output_type": "stream",
          "name": "stdout",
          "text": [
            "True\n",
            "True\n",
            "True\n",
            "False\n"
          ]
        }
      ]
    },
    {
      "cell_type": "markdown",
      "source": [
        "issubclass():\n",
        "\n",
        "The issubclass() function is used to check if a class is a subclass of another class. It returns True if the class is a subclass, and False otherwise."
      ],
      "metadata": {
        "id": "jTNuPVF208kb"
      }
    },
    {
      "cell_type": "code",
      "source": [
        "class Vehicle:\n",
        "    pass\n",
        "\n",
        "class Car(Vehicle):\n",
        "    pass\n",
        "\n",
        "class Bike(Vehicle):\n",
        "    pass\n",
        "\n",
        "print(issubclass(Car, Vehicle))  # Output: True\n",
        "print(issubclass(Bike, Vehicle))  # Output: True\n",
        "print(issubclass(Car, Bike))  # Output: False\n"
      ],
      "metadata": {
        "colab": {
          "base_uri": "https://localhost:8080/"
        },
        "id": "nSwRWeI11C2O",
        "outputId": "991b0c55-08bc-4921-be22-a23826cf30e5"
      },
      "execution_count": 5,
      "outputs": [
        {
          "output_type": "stream",
          "name": "stdout",
          "text": [
            "True\n",
            "True\n",
            "False\n"
          ]
        }
      ]
    }
  ]
}