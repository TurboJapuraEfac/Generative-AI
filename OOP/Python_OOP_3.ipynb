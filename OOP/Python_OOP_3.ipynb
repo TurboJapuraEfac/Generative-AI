{
  "nbformat": 4,
  "nbformat_minor": 0,
  "metadata": {
    "colab": {
      "provenance": []
    },
    "kernelspec": {
      "name": "python3",
      "display_name": "Python 3"
    },
    "language_info": {
      "name": "python"
    }
  },
  "cells": [
    {
      "cell_type": "markdown",
      "source": [
        "***Regular Methods vs Class Methods vs Static Methods***\n",
        "\n",
        "Regular Methods:\n",
        "\n",
        "1. Regular methods are the most common type of method in Python classes.\n",
        "2. They are bound to the instance of a class and have access to the instance's attributes and other methods through the self parameter.\n",
        "3. Regular methods are typically used to perform operations that are specific to an instance of a class.\n",
        "4. When you call a regular method on an instance, Python automatically passes the instance (self) as the first argument.\n",
        "\n",
        "Class Methods:\n",
        "\n",
        "1. Class methods are methods that are bound to the class itself, rather than to an instance.\n",
        "2. They are defined using the @classmethod decorator and receive the class as the first argument, conventionally named cls (similar to self for regular methods).\n",
        "3. Class methods have access to the class's attributes and can be used to perform operations that are related to the class as a whole, rather than specific instances.\n",
        "4. They can be used to create alternative constructors, access class-level variables, or modify class state.\n",
        "5. Class methods can be called either on the class itself or on an instance of the class, and Python automatically passes the class as the first argument.\n",
        "\n",
        "Static Methods:\n",
        "\n",
        "1. Static methods are independent of the class and the instance. They are defined using the @staticmethod decorator.\n",
        "2. They don't receive any implicit first argument (self or cls), so they cannot access instance or class attributes directly.\n",
        "3. Static methods are typically used for utility functions or operations that don't depend on any instance or class-specific data.\n",
        "4. They can be called on the class itself or on an instance, but they do not have access to any specific instance or class state."
      ],
      "metadata": {
        "id": "G_TF6GWGbjRv"
      }
    },
    {
      "cell_type": "code",
      "execution_count": 1,
      "metadata": {
        "colab": {
          "base_uri": "https://localhost:8080/"
        },
        "id": "PaFtHzsxapCx",
        "outputId": "0bdc7805-cd3c-4133-f6c6-a419bdc80fdc"
      },
      "outputs": [
        {
          "output_type": "stream",
          "name": "stdout",
          "text": [
            "This is an instance method\n",
            "Instance variable: 20\n",
            "This is a class method\n",
            "Class variable: 10\n",
            "This is a static method\n"
          ]
        }
      ],
      "source": [
        "class MyClass:\n",
        "    class_variable = 10  # Class-level variable\n",
        "\n",
        "    def __init__(self, instance_variable):\n",
        "        self.instance_variable = instance_variable\n",
        "\n",
        "    def instance_method(self):\n",
        "        print(\"This is an instance method\")\n",
        "        print(\"Instance variable:\", self.instance_variable)\n",
        "\n",
        "    @classmethod\n",
        "    def class_method(cls):\n",
        "        print(\"This is a class method\")\n",
        "        print(\"Class variable:\", cls.class_variable)\n",
        "\n",
        "    @staticmethod\n",
        "    def static_method():\n",
        "        print(\"This is a static method\")\n",
        "\n",
        "# Creating an instance of the class\n",
        "obj = MyClass(20)\n",
        "\n",
        "# Calling the instance method\n",
        "obj.instance_method()\n",
        "\n",
        "# Calling the class method\n",
        "MyClass.class_method()\n",
        "\n",
        "# Calling the static method\n",
        "MyClass.static_method()\n",
        "\n",
        "# The instance_method() is a regular method that can access the instance variable using the self parameter.\n",
        "# The class_method() is a class method that can access the class variable using the cls parameter.\n",
        "# The static_method() is a static method that doesn't have access to either the instance variable or the class variable."
      ]
    },
    {
      "cell_type": "code",
      "source": [
        "class Employee:\n",
        "\n",
        "  num_of_emps = 0\n",
        "  raise_amout = 1.04\n",
        "\n",
        "  def __init__(self, first, last, pay):\n",
        "    self.first = first\n",
        "    self.last = last\n",
        "    self.pay = pay\n",
        "    self.email = first + '' + last + 'email.com'\n",
        "\n",
        "  def full_name(self, first, last):\n",
        "    return self.first + ' ' + self.email\n",
        "\n",
        "  def apply_raise(self):\n",
        "    self.pay = int(self.pay * self.raise_amout)\n",
        "\n",
        "  @classmethod\n",
        "  def set_raise_amount(cls,amount):\n",
        "    cls.raise_amout = amount\n",
        "\n",
        "  @classmethod\n",
        "  def from_string(cls, emp_str):\n",
        "    first, last , pay = emp_str.split('-')\n",
        "    return cls(first,last,pay)\n",
        "\n",
        "  # This is like a regular function\n",
        "  @staticmethod\n",
        "  def is_workday(day):\n",
        "    # Monday =0, Sunday = 6\n",
        "      if day.weekday() == 5 or day.weekday() == 6:\n",
        "          return False\n",
        "      return True\n",
        "\n",
        "emp1 = Employee('Buddhika','Weerasinghe', 1000000)\n",
        "emp2 = Employee('Kavindu','Nimesh',2500000)\n",
        "\n",
        "emp_str_1 = 'John-Doe-70000'\n",
        "emp_str_2 = 'Steve-Smith-30000'\n",
        "emp_str_3 = 'Jane-Doe-90000'\n",
        "\n",
        "new_emp1 = Employee.from_string(emp_str_1)\n",
        "new_emp2 = Employee.from_string(emp_str_2)\n",
        "new_emp3 = Employee.from_string(emp_str_3)\n",
        "\n",
        "print(Employee.raise_amout)\n",
        "print(emp1.raise_amout)\n",
        "print(emp2.raise_amout)\n",
        "\n",
        "print('\\n')\n",
        "print(new_emp1.email)\n",
        "\n",
        "print(new_emp2.email)\n",
        "\n",
        "print(new_emp3.email)\n",
        "\n",
        "print('\\n')\n",
        "import datetime\n",
        "\n",
        "my_date = datetime.date(2016, 7, 11)\n",
        "print(Employee.is_workday(my_date))\n",
        "my_date1 = datetime.date(2016, 7, 16)\n",
        "print(emp1.is_workday(my_date1))"
      ],
      "metadata": {
        "colab": {
          "base_uri": "https://localhost:8080/"
        },
        "id": "9DzQBYK0cldb",
        "outputId": "5e96ebb2-f812-4882-efeb-be91f858c416"
      },
      "execution_count": 2,
      "outputs": [
        {
          "output_type": "stream",
          "name": "stdout",
          "text": [
            "1.04\n",
            "1.04\n",
            "1.04\n",
            "\n",
            "\n",
            "JohnDoeemail.com\n",
            "SteveSmithemail.com\n",
            "JaneDoeemail.com\n",
            "\n",
            "\n",
            "True\n",
            "False\n"
          ]
        }
      ]
    },
    {
      "cell_type": "code",
      "source": [
        "Employee.set_raise_amount(1.05)\n",
        "print(Employee.raise_amout)\n",
        "print(emp1.raise_amout)\n",
        "print(emp2.raise_amout)\n"
      ],
      "metadata": {
        "colab": {
          "base_uri": "https://localhost:8080/"
        },
        "id": "fJk_n5cLgO8s",
        "outputId": "014b6735-54c8-4538-cdca-bca7aad68941"
      },
      "execution_count": 3,
      "outputs": [
        {
          "output_type": "stream",
          "name": "stdout",
          "text": [
            "1.05\n",
            "1.05\n",
            "1.05\n"
          ]
        }
      ]
    }
  ]
}