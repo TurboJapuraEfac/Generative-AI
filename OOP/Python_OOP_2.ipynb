{
  "nbformat": 4,
  "nbformat_minor": 0,
  "metadata": {
    "colab": {
      "provenance": []
    },
    "kernelspec": {
      "name": "python3",
      "display_name": "Python 3"
    },
    "language_info": {
      "name": "python"
    }
  },
  "cells": [
    {
      "cell_type": "markdown",
      "source": [
        "**Class Variables:**\n",
        "\n",
        "\n",
        "\n",
        "1. Class variables are defined directly within the class, outside of any methods.\n",
        "2.  Class variables are accessed using the class name itself or through any instance of the class.\n",
        "3.  Modifying a class variable affects all instances of the class.\n",
        "4.  Class variables are typically used to store data that is common to all instances of the class.\n",
        "5.  They are useful for storing constants or shared data that doesn't change per instance.\n",
        "\n",
        "\n",
        "**Instance Variables:**\n",
        "\n",
        "1.  Instance variables are defined within the methods of a class, typically within the constructor (__init__ method) using the self keyword.\n",
        "2.   They belong to individual instances (objects) of the class, and each instance maintains its own copy of these variables.\n",
        "3.  Instance variables are accessed using the dot notation (object_name.variable_name) on a specific instance of the class.\n",
        "4.  Modifying an instance variable affects only the specific instance on which the modification is made.\n",
        "Instance variables are used to store data that varies from one instance to another.\n",
        "5.  They can hold unique values specific to each object or instance of the class.\n",
        "\n",
        "In summary, class variables are shared among all instances of a class, while instance variables are specific to each individual instance. Class variables are declared outside of any methods in the class definition, while instance variables are typically defined within the constructor method using the self keyword."
      ],
      "metadata": {
        "id": "ttAuJmnuePK9"
      }
    },
    {
      "cell_type": "code",
      "execution_count": 1,
      "metadata": {
        "colab": {
          "base_uri": "https://localhost:8080/"
        },
        "id": "0_iAdt0wVdjX",
        "outputId": "72a725d1-0484-4d5d-fe89-65d9ea92e458"
      },
      "outputs": [
        {
          "output_type": "stream",
          "name": "stdout",
          "text": [
            "250000\n",
            "1.04\n",
            "260000.0\n",
            "\n",
            "\n",
            "1.04\n",
            "1.04\n",
            "1.04\n",
            "\n",
            "\n",
            "{'first': 'Buddhika', 'last': 'Weerasinghe', 'pay': 260000.0, 'email': 'Buddhika.Weerasinghe@xyz.com'}\n",
            "{'first': 'Kavindu', 'last': 'Nimesh', 'pay': 350000, 'email': 'Kavindu.Nimesh@xyz.com'}\n",
            "{'__module__': '__main__', 'raise_amount': 1.04, '__init__': <function Employee.__init__ at 0x7f11f1585870>, 'fullname': <function Employee.fullname at 0x7f11f1585750>, 'apply_raise': <function Employee.apply_raise at 0x7f11f1585630>, '__dict__': <attribute '__dict__' of 'Employee' objects>, '__weakref__': <attribute '__weakref__' of 'Employee' objects>, '__doc__': None}\n",
            "\n",
            "\n",
            "1.05\n",
            "1.05\n",
            "1.05\n",
            "\n",
            "\n",
            "1.06\n",
            "1.05\n",
            "1.05\n"
          ]
        }
      ],
      "source": [
        "class Employee:\n",
        "\n",
        "  # Class variable\n",
        "  raise_amount = 1.04\n",
        "\n",
        "  def __init__(self, first, last, pay):\n",
        "    self.first = first\n",
        "    self.last = last\n",
        "    self.pay = pay\n",
        "    self.email = first + '.' + last + '@xyz.com'\n",
        "\n",
        "  def fullname(self):\n",
        "    return self.first + \" \" + self.last\n",
        "\n",
        "  def apply_raise(self):\n",
        "    self.pay = self.pay * self.raise_amount\n",
        "    # or\n",
        "    # self.pay = self.pay * Employee.raise_amount\n",
        "\n",
        "emp1 = Employee('Buddhika', 'Weerasinghe', 250000)\n",
        "emp2 = Employee(\"Kavindu\",\"Nimesh\", 350000)\n",
        "\n",
        "print(emp1.pay)\n",
        "print(emp1.raise_amount)\n",
        "emp1.apply_raise()\n",
        "print(emp1.pay)\n",
        "\n",
        "print(\"\\n\")\n",
        "\n",
        "# Access class variable\n",
        "print(emp1.raise_amount)\n",
        "print(emp2.raise_amount)\n",
        "print(Employee.raise_amount)\n",
        "\n",
        "print(\"\\n\")\n",
        "\n",
        "# namespaces\n",
        "print(emp1.__dict__)\n",
        "print(emp2.__dict__)\n",
        "print(Employee.__dict__)\n",
        "\n",
        "# Change class variable\n",
        "print(\"\\n\")\n",
        "Employee.raise_amount = 1.05\n",
        "print(emp1.raise_amount)\n",
        "print(emp2.raise_amount)\n",
        "print(Employee.raise_amount)\n",
        "\n",
        "# Change class variable using the instance\n",
        "# In the apply_raise if we used this,  self.pay = self.pay * Employee.raise_amount, below will not work as it is using class name\n",
        "print(\"\\n\")\n",
        "emp1.raise_amount = 1.06\n",
        "print(emp1.raise_amount)\n",
        "print(emp2.raise_amount)\n",
        "print(Employee.raise_amount)"
      ]
    },
    {
      "cell_type": "code",
      "source": [
        "class Employee:\n",
        "\n",
        "  # Class variables\n",
        "  num_of_emps = 0\n",
        "  raise_amount = 1.04\n",
        "\n",
        "  def __init__(self, first, last, pay):\n",
        "    self.first = first\n",
        "    self.last = last\n",
        "    self.pay = pay\n",
        "    self.email = first + '.' + last + '@xyz.com'\n",
        "\n",
        "    # since init method runs everytime we create an employee\n",
        "    Employee.num_of_emps +=1\n",
        "\n",
        "  def fullname(self):\n",
        "    return self.first + \" \" + self.last\n",
        "\n",
        "  def apply_raise(self):\n",
        "    self.pay = self.pay * self.raise_amount\n",
        "    # or\n",
        "    # self.pay = self.pay * Employee.raise_amount\n",
        "\n",
        "print(Employee.num_of_emps)\n",
        "emp1 = Employee('Buddhika', 'Weerasinghe', 250000)\n",
        "emp2 = Employee(\"Kavindu\",\"Nimesh\", 350000)\n",
        "print(Employee.num_of_emps)\n",
        "\n"
      ],
      "metadata": {
        "colab": {
          "base_uri": "https://localhost:8080/"
        },
        "id": "ueBCM0ViZ5RW",
        "outputId": "e9abd4c3-6f79-4115-b75c-50d9c9bcfb45"
      },
      "execution_count": 2,
      "outputs": [
        {
          "output_type": "stream",
          "name": "stdout",
          "text": [
            "0\n",
            "2\n"
          ]
        }
      ]
    },
    {
      "cell_type": "code",
      "source": [
        "class Car:\n",
        "    # Class variable\n",
        "    wheels = 4\n",
        "\n",
        "    def __init__(self, make, model):\n",
        "        # Instance variables\n",
        "        self.make = make\n",
        "        self.model = model\n",
        "\n",
        "# Create instances of the Car class\n",
        "car1 = Car(\"Toyota\", \"Corolla\")\n",
        "car2 = Car(\"Honda\", \"Civic\")\n",
        "\n",
        "# Accessing class variable\n",
        "print(\"Number of wheels (class variable):\", Car.wheels)  # Output: 4\n",
        "\n",
        "# Accessing instance variables\n",
        "print(\"Car 1 - Make:\", car1.make)  # Output: Toyota\n",
        "print(\"Car 2 - Model:\", car2.model)  # Output: Civic\n",
        "\n",
        "# Modifying class variable\n",
        "Car.wheels = 6\n",
        "print(\"Number of wheels (class variable):\", Car.wheels)  # Output: 6\n",
        "\n",
        "# Modifying instance variable\n",
        "car1.make = \"Ford\"\n",
        "car2.model = \"Accord\"\n",
        "print(\"Car 1 - Make:\", car1.make)  # Output: Ford\n",
        "print(\"Car 2 - Model:\", car2.model)  # Output: Accord\n"
      ],
      "metadata": {
        "colab": {
          "base_uri": "https://localhost:8080/"
        },
        "id": "_3BPiT9idbmg",
        "outputId": "b3d15260-e623-414e-edc6-2f0ccb4996e2"
      },
      "execution_count": 3,
      "outputs": [
        {
          "output_type": "stream",
          "name": "stdout",
          "text": [
            "Number of wheels (class variable): 4\n",
            "Car 1 - Make: Toyota\n",
            "Car 2 - Model: Civic\n",
            "Number of wheels (class variable): 6\n",
            "Car 1 - Make: Ford\n",
            "Car 2 - Model: Accord\n"
          ]
        }
      ]
    }
  ]
}